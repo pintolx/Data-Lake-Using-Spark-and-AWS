{
 "cells": [
  {
   "cell_type": "code",
   "execution_count": 11,
   "metadata": {},
   "outputs": [
    {
     "name": "stdout",
     "output_type": "stream",
     "text": [
      "/root\n"
     ]
    }
   ],
   "source": [
    "cd"
   ]
  },
  {
   "cell_type": "code",
   "execution_count": 13,
   "metadata": {},
   "outputs": [
    {
     "name": "stdout",
     "output_type": "stream",
     "text": [
      "\u001b[0m\u001b[01;34mbin\u001b[0m/   \u001b[01;34mcstore_fdw\u001b[0m/  \u001b[01;34metc\u001b[0m/   \u001b[01;34mlib\u001b[0m/    \u001b[01;34mmedia\u001b[0m/  \u001b[01;34mopt\u001b[0m/   \u001b[01;34mroot\u001b[0m/  \u001b[01;34msbin\u001b[0m/  \u001b[01;34msys\u001b[0m/  \u001b[01;34musr\u001b[0m/\n",
      "\u001b[01;34mboot\u001b[0m/  \u001b[01;34mdev\u001b[0m/         \u001b[01;34mhome\u001b[0m/  \u001b[01;34mlib64\u001b[0m/  \u001b[01;34mmnt\u001b[0m/    \u001b[01;34mproc\u001b[0m/  \u001b[01;34mrun\u001b[0m/   \u001b[01;34msrv\u001b[0m/   \u001b[30;42mtmp\u001b[0m/  \u001b[01;34mvar\u001b[0m/\n"
     ]
    }
   ],
   "source": [
    "ls"
   ]
  },
  {
   "cell_type": "code",
   "execution_count": 14,
   "metadata": {},
   "outputs": [
    {
     "name": "stdout",
     "output_type": "stream",
     "text": [
      "/home\n"
     ]
    }
   ],
   "source": [
    "cd home"
   ]
  },
  {
   "cell_type": "code",
   "execution_count": 15,
   "metadata": {},
   "outputs": [
    {
     "name": "stdout",
     "output_type": "stream",
     "text": [
      "\u001b[0m\u001b[34;42mbackups\u001b[0m/  \u001b[01;34mworkspace\u001b[0m/\n"
     ]
    }
   ],
   "source": [
    "ls"
   ]
  },
  {
   "cell_type": "code",
   "execution_count": 16,
   "metadata": {},
   "outputs": [
    {
     "name": "stdout",
     "output_type": "stream",
     "text": [
      "/home/workspace\n"
     ]
    }
   ],
   "source": [
    "cd workspace"
   ]
  },
  {
   "cell_type": "code",
   "execution_count": 17,
   "metadata": {},
   "outputs": [
    {
     "name": "stdout",
     "output_type": "stream",
     "text": [
      "\u001b[0m\u001b[01;34mdata\u001b[0m/   etl.py        README.md               \u001b[01;34mspark-warehouse\u001b[0m/\n",
      "dl.cfg  \u001b[01;34m__pycache__\u001b[0m/  songs_table_image1.PNG  Untitled.ipynb\n"
     ]
    }
   ],
   "source": [
    "ls"
   ]
  },
  {
   "cell_type": "code",
   "execution_count": 18,
   "metadata": {},
   "outputs": [
    {
     "name": "stdout",
     "output_type": "stream",
     "text": [
      "Creating the songs table and dropping duplicates\n",
      "--- All duplicate songs have been dropped and the songs table created ---\n",
      "Printing some rows from the songs_table\n",
      "+--------------------+------------------+----+---------+------------+\n",
      "|               title|         artist_id|year| duration|     song_id|\n",
      "+--------------------+------------------+----+---------+------------+\n",
      "|               Intro|AR558FS1187FB45658|2003| 75.67628| 51539607552|\n",
      "|Setting Fire to S...|ARMAC4T1187FB3FA4C|2004|207.77751| 68719476736|\n",
      "|Kutt Free (DJ Vol...|ARNNKDK1187B98BBD5|   0|407.37914| 68719476737|\n",
      "|Get Your Head Stu...|AREDL271187FB40F44|   0| 45.66159| 77309411328|\n",
      "|     Amor De Cabaret|ARKRRTF1187B9984DA|   0|177.47546| 94489280512|\n",
      "|The Urgency (LP V...|ARC43071187B990240|   0|245.21098|103079215104|\n",
      "|           Ten Tonne|AR62SOJ1187FB47BB5|2005|337.68444|103079215105|\n",
      "|      Spanish Grease|AROUOZZ1187B9ABE51|1997|168.25424|146028888064|\n",
      "|       City Slickers|AR8IEZO1187B99055E|2008|149.86404|154618822656|\n",
      "|A Higher Place (A...|ARBEBBY1187B9B43DB|1994|236.17261|180388626432|\n",
      "|Wessex Loses a Bride|ARI2JSK1187FB496EF|   0|111.62077|223338299392|\n",
      "|Made Like This (L...|ARGIWFO1187B9B55B7|   0|225.09669|223338299393|\n",
      "|The Moon And I (O...|ARKFYS91187B98E58F|   0| 267.7024|231928233984|\n",
      "|Erica (2005 Digit...|AREDBBQ1187B98AFF5|   0|138.63138|249108103168|\n",
      "|Insatiable (Instr...|ARNTLGG11E2835DDB9|   0|266.39628|257698037760|\n",
      "+--------------------+------------------+----+---------+------------+\n",
      "only showing top 15 rows\n",
      "\n",
      "Saving the songs table to the s3 bucket\n",
      "--- songs.parquet completed ---\n",
      "--- Starting to drop duplicate artists....\n",
      "All duplicate artists have been dropped......\n",
      "Printing some rows from the artists_table\n",
      "+------------------+--------------------+--------------------+---------------+----------------+\n",
      "|         artist_id|         artist_name|     artist_location|artist_latitude|artist_longitude|\n",
      "+------------------+--------------------+--------------------+---------------+----------------+\n",
      "|AR3JMC51187B9AE49D|     Backstreet Boys|         Orlando, FL|       28.53823|       -81.37739|\n",
      "|AR0IAWL1187B9A96D0|        Danilo Perez|              Panama|         8.4177|       -80.11278|\n",
      "|ARWB3G61187FB49404|         Steve Morse|      Hamilton, Ohio|           null|            null|\n",
      "|AR47JEX1187B995D81|        SUE THOMPSON|          Nevada, MO|       37.83721|       -94.35868|\n",
      "|ARHHO3O1187B989413|           Bob Azzam|                    |           null|            null|\n",
      "|ARAGB2O1187FB3A161|Pucho & His Latin...|                    |           null|            null|\n",
      "|AREBBGV1187FB523D2|Mike Jones (Featu...|         Houston, TX|           null|            null|\n",
      "|ARGSAFR1269FB35070|          Blingtones|                    |           null|            null|\n",
      "|AROUOZZ1187B9ABE51|         Willie Bobo|New York, NY [Spa...|       40.79195|       -73.94512|\n",
      "|AR0RCMP1187FB3F427|    Billie Jo Spears|        Beaumont, TX|       30.08615|       -94.10158|\n",
      "|ARJIE2Y1187B994AB7|         Line Renaud|                    |           null|            null|\n",
      "|ARI2JSK1187FB496EF|Nick Ingman;Gavyn...|     London, England|       51.50632|        -0.12714|\n",
      "|ARGUVEV1187B98BA17|      Sierra Maestra|                    |           null|            null|\n",
      "|AROGWRA122988FEE45|     Christos Dantis|                    |           null|            null|\n",
      "|ARNF6401187FB57032|   Sophie B. Hawkins|New York, NY [Man...|       40.79086|       -73.96644|\n",
      "+------------------+--------------------+--------------------+---------------+----------------+\n",
      "only showing top 15 rows\n",
      "\n",
      "--- artists.parquet completed ---\n",
      "*** process_song_data completed ***\n",
      "\n",
      "\n",
      "--- All duplicate users have been dropped completed ---\n",
      "Printing some rows from the users_table\n",
      "+-------+----------+---------+------+-----+\n",
      "|user_id|first_name|last_name|gender|level|\n",
      "+-------+----------+---------+------+-----+\n",
      "|     26|      Ryan|    Smith|     M| free|\n",
      "|      7|    Adelyn|   Jordan|     F| free|\n",
      "|     71|    Ayleen|     Wise|     F| free|\n",
      "|     81|    Sienna|    Colon|     F| free|\n",
      "|     87|    Dustin|      Lee|     M| free|\n",
      "|     23|    Morris|  Gilmore|     M| free|\n",
      "|     75|    Joseph|Gutierrez|     M| free|\n",
      "|     16|     Rylan|   George|     M| paid|\n",
      "|      2|   Jizelle| Benjamin|     F| free|\n",
      "|      3|     Isaac|   Valdez|     M| free|\n",
      "|     54|     Kaleb|     Cook|     M| free|\n",
      "|     79|     James|   Martin|     M| free|\n",
      "|     80|     Tegan|   Levine|     F| paid|\n",
      "|     77| Magdalene|   Herman|     F| free|\n",
      "|     47|    Kimber|   Norris|     F| free|\n",
      "+-------+----------+---------+------+-----+\n",
      "only showing top 15 rows\n",
      "\n",
      "--- users.parquet completed ---\n",
      "--- creating the time table ---\n",
      "Printing some rows from the time_table\n",
      "+-------------------+-----+----+---+----+----+-------+\n",
      "|         start_time|month|year|day|hour|week|weekday|\n",
      "+-------------------+-----+----+---+----+----+-------+\n",
      "|2018-11-21 10:52:12|   11|2018| 21|  10|  47|      4|\n",
      "|2018-11-21 19:46:29|   11|2018| 21|  19|  47|      4|\n",
      "|2018-11-14 04:37:40|   11|2018| 14|   4|  46|      4|\n",
      "|2018-11-14 12:14:41|   11|2018| 14|  12|  46|      4|\n",
      "|2018-11-14 16:19:02|   11|2018| 14|  16|  46|      4|\n",
      "|2018-11-14 23:03:00|   11|2018| 14|  23|  46|      4|\n",
      "|2018-11-28 11:34:34|   11|2018| 28|  11|  48|      4|\n",
      "|2018-11-05 12:19:02|   11|2018|  5|  12|  45|      2|\n",
      "|2018-11-13 23:19:16|   11|2018| 13|  23|  46|      3|\n",
      "|2018-11-13 23:40:41|   11|2018| 13|  23|  46|      3|\n",
      "|2018-11-30 05:16:54|   11|2018| 30|   5|  48|      6|\n",
      "|2018-11-16 11:45:36|   11|2018| 16|  11|  46|      6|\n",
      "|2018-11-16 12:54:06|   11|2018| 16|  12|  46|      6|\n",
      "|2018-11-20 17:33:34|   11|2018| 20|  17|  47|      3|\n",
      "|2018-11-20 18:01:33|   11|2018| 20|  18|  47|      3|\n",
      "+-------------------+-----+----+---+----+----+-------+\n",
      "only showing top 15 rows\n",
      "\n",
      "--- time.parquet completed ---\n",
      "--- song df data has been read in ---\n",
      "--- Basics of the songplays table have been set up ---\n",
      "Printing some rows from the songplays_table\n",
      "+-------------------+------+-----+------------------+------------------+---------+--------------------+--------------------+-----+----+\n",
      "|         start_time|userId|level|           song_id|         artist_id|sessionId|            location|           userAgent|month|year|\n",
      "+-------------------+------+-----+------------------+------------------+---------+--------------------+--------------------+-----+----+\n",
      "|2018-11-21 21:56:47|    15| paid|SOZCTXZ12AB0182364|AR5KOSW1187FB35FF4|      818|Chicago-Napervill...|\"Mozilla/5.0 (X11...|   11|2018|\n",
      "|2018-11-14 05:06:03|    10| free|SOGDBUF12A8C140FAA|AR558FS1187FB45658|      484|Washington-Arling...|\"Mozilla/5.0 (Mac...|   11|2018|\n",
      "|2018-11-19 09:14:20|    24| paid|SOGDBUF12A8C140FAA|AR558FS1187FB45658|      672|Lake Havasu City-...|\"Mozilla/5.0 (Win...|   11|2018|\n",
      "|2018-11-27 22:35:59|    80| paid|SOGDBUF12A8C140FAA|AR558FS1187FB45658|      992|Portland-South Po...|\"Mozilla/5.0 (Mac...|   11|2018|\n",
      "+-------------------+------+-----+------------------+------------------+---------+--------------------+--------------------+-----+----+\n",
      "\n",
      "--- songplays.parquet completed ---\n",
      "*** process_log_data completed ***\n",
      "\n",
      "END\n"
     ]
    }
   ],
   "source": [
    "%run -i 'etl.py'"
   ]
  },
  {
   "cell_type": "code",
   "execution_count": null,
   "metadata": {},
   "outputs": [],
   "source": []
  },
  {
   "cell_type": "code",
   "execution_count": null,
   "metadata": {},
   "outputs": [],
   "source": []
  }
 ],
 "metadata": {
  "kernelspec": {
   "display_name": "Python 3",
   "language": "python",
   "name": "python3"
  },
  "language_info": {
   "codemirror_mode": {
    "name": "ipython",
    "version": 3
   },
   "file_extension": ".py",
   "mimetype": "text/x-python",
   "name": "python",
   "nbconvert_exporter": "python",
   "pygments_lexer": "ipython3",
   "version": "3.6.3"
  }
 },
 "nbformat": 4,
 "nbformat_minor": 2
}
